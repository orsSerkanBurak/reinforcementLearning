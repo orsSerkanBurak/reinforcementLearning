{
 "cells": [
  {
   "cell_type": "code",
   "execution_count": 1,
   "id": "de3d08f6",
   "metadata": {},
   "outputs": [],
   "source": [
    "import numpy as np\n",
    "import random\n",
    "import matplotlib.pyplot as plt"
   ]
  },
  {
   "cell_type": "code",
   "execution_count": 2,
   "id": "b400ce3a",
   "metadata": {},
   "outputs": [],
   "source": [
    "# Define grid world parameters\n",
    "grid_size = 10\n",
    "num_obstacles = 10\n",
    "start_state = (0, 0)\n",
    "goal_state = (9, 9)\n",
    "max_steps = 100\n",
    "\n",
    "# Define obstacle positions\n",
    "obstacle_pos = random.sample(list(np.ndindex((grid_size, grid_size))), num_obstacles)\n",
    "\n",
    "# Initialize Q-values\n",
    "Q = np.zeros((grid_size, grid_size, 4))\n",
    "\n",
    "# Define hyperparameters\n",
    "alpha = 0.5\n",
    "gamma = 0.9\n",
    "epsilon = 0.1\n",
    "\n",
    "# Define action space\n",
    "action_space = np.array([[0, -1], [0, 1], [-1, 0], [1, 0]])\n",
    "\n",
    "# Define reward function\n",
    "R = -1 * np.ones((grid_size, grid_size))\n",
    "for i in range(num_obstacles):\n",
    "    R[obstacle_pos[i]] = -10\n",
    "R[goal_state] = 0"
   ]
  },
  {
   "cell_type": "code",
   "execution_count": 3,
   "id": "bd4ca6e7",
   "metadata": {},
   "outputs": [],
   "source": [
    "# Train Q-learning algorithm\n",
    "for episode in range(500):\n",
    "    state = start_state\n",
    "    for step in range(max_steps):\n",
    "        # Choose action\n",
    "        if random.uniform(0, 1) < epsilon:\n",
    "            action = random.randint(0, 3)\n",
    "        else:\n",
    "            action = np.argmax(Q[state[0], state[1], :])\n",
    "        \n",
    "        # Take action\n",
    "        next_state = tuple(np.add(state, action_space[action]))\n",
    "        \n",
    "        # Check if action is valid\n",
    "        if all(0 <= next_state[i] < grid_size for i in range(2)) and \\\n",
    "            next_state not in obstacle_pos:\n",
    "            \n",
    "            # Calculate reward\n",
    "            reward = R[next_state]\n",
    "            \n",
    "            # Update Q-value\n",
    "            Q[state[0], state[1], action] = (1 - alpha) * Q[state[0], state[1], action] + alpha * (reward + gamma * np.max(Q[next_state[0], next_state[1], :]))\n",
    "            \n",
    "            # Update state\n",
    "            state = next_state\n",
    "            \n",
    "            # Check if goal state is reached\n",
    "            if state == goal_state:\n",
    "                break\n",
    "        else:\n",
    "            # Invalid action, penalize agent\n",
    "            Q[state[0], state[1], action] -= 10"
   ]
  },
  {
   "cell_type": "code",
   "execution_count": 4,
   "id": "def6e574",
   "metadata": {},
   "outputs": [],
   "source": [
    "# Use Q-values to navigate grid world\n",
    "state = start_state\n",
    "trajectory = [state]\n",
    "while state != goal_state:\n",
    "    action = np.argmax(Q[state[0], state[1], :])\n",
    "    next_state = tuple(np.add(state, action_space[action]))\n",
    "    \n",
    "    if all(0 <= next_state[i] < grid_size for i in range(2)) and \\\n",
    "        next_state not in obstacle_pos:\n",
    "        state = next_state\n",
    "        trajectory.append(state)\n",
    "    else:\n",
    "        break"
   ]
  },
  {
   "cell_type": "code",
   "execution_count": 6,
   "id": "ab50e941",
   "metadata": {},
   "outputs": [
    {
     "data": {
      "image/png": "[encoded data removed]",
      "text/plain": [
       "<Figure size 640x480 with 1 Axes>"
      ]
     },
     "metadata": {},
     "output_type": "display_data"
    }
   ],
   "source": [
    "# Plot grid world\n",
    "fig, ax = plt.subplots()\n",
    "for obstacle in obstacle_pos:\n",
    "    ax.add_patch(plt.Rectangle((obstacle[1], obstacle[0]), 1, 1, facecolor='k'))\n",
    "ax.plot(start_state[1], start_state[0], 'bo')\n",
    "ax.plot(goal_state[1], goal_state[0], 'go')\n",
    "x, y = zip(*trajectory)\n",
    "ax.plot(y, x, linewidth=2, color='r')\n",
    "ax.set_xticks(np.arange(0, grid_size, 1))\n",
    "ax.set_yticks(np.arange(0, grid_size, 1))\n",
    "ax.grid(True)\n",
    "plt.show()"
   ]
  }
 ],
 "metadata": {
  "kernelspec": {
   "display_name": "Python 3 (ipykernel)",
   "language": "python",
   "name": "python3"
  },
  "language_info": {
   "codemirror_mode": {
    "name": "ipython",
    "version": 3
   },
   "file_extension": ".py",
   "mimetype": "text/x-python",
   "name": "python",
   "nbconvert_exporter": "python",
   "pygments_lexer": "ipython3",
   "version": "3.9.13"
  }
 },
 "nbformat": 4,
 "nbformat_minor": 5
}
