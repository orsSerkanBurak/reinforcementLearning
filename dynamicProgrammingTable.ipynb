{
 "cells": [
  {
   "cell_type": "code",
   "execution_count": 2,
   "id": "9ee235b3",
   "metadata": {},
   "outputs": [],
   "source": [
    "import numpy as np\n",
    "import matplotlib.pyplot as plt"
   ]
  },
  {
   "cell_type": "code",
   "execution_count": 3,
   "id": "c655b890",
   "metadata": {},
   "outputs": [],
   "source": [
    "def lcs(x, y):\n",
    "    m, n = len(x), len(y)\n",
    "    # Initialize the dynamic programming table with zeros\n",
    "    dp = np.zeros((m+1, n+1), dtype=int)\n",
    "    \n",
    "    # Fill in the table using dynamic programming\n",
    "    for i in range(1, m+1):\n",
    "        for j in range(1, n+1):\n",
    "            if x[i-1] == y[j-1]:\n",
    "                dp[i][j] = dp[i-1][j-1] + 1\n",
    "            else:\n",
    "                dp[i][j] = max(dp[i-1][j], dp[i][j-1])\n",
    "    \n",
    "    # Generate a graphical representation of the dynamic programming table\n",
    "    fig, ax = plt.subplots()\n",
    "    ax.imshow(dp, cmap='Blues')\n",
    "    ax.set_xticks(np.arange(n+1))\n",
    "    ax.set_yticks(np.arange(m+1))\n",
    "    ax.set_xticklabels([''] + list(y))\n",
    "    ax.set_yticklabels([''] + list(x))\n",
    "    ax.set_title('Dynamic Programming Table')\n",
    "    for i in range(m+1):\n",
    "        for j in range(n+1):\n",
    "            ax.text(j, i, dp[i][j], ha='center', va='center')\n",
    "    plt.show()\n",
    "\n",
    "    # Traverse the dynamic programming table to reconstruct the longest common subsequence\n",
    "    i, j = m, n\n",
    "    lcs_str = ''\n",
    "    while i > 0 and j > 0:\n",
    "        if x[i-1] == y[j-1]:\n",
    "            lcs_str = x[i-1] + lcs_str\n",
    "            i -= 1\n",
    "            j -= 1\n",
    "        elif dp[i-1][j] > dp[i][j-1]:\n",
    "            i -= 1\n",
    "        else:\n",
    "            j -= 1\n",
    "    \n",
    "    return lcs_str"
   ]
  },
  {
   "cell_type": "code",
   "execution_count": 4,
   "id": "371fe2ca",
   "metadata": {},
   "outputs": [
    {
     "data": {
      "image/png": "[encoded data removed]",
      "text/plain": [
       "<Figure size 640x480 with 1 Axes>"
      ]
     },
     "metadata": {},
     "output_type": "display_data"
    },
    {
     "name": "stdout",
     "output_type": "stream",
     "text": [
      "Longest common subsequence: GTAB\n"
     ]
    }
   ],
   "source": [
    "x = 'AGGTAB'\n",
    "y = 'GXTXAYB'\n",
    "lcs_str = lcs(x, y)\n",
    "print('Longest common subsequence:', lcs_str)"
   ]
  },
  {
   "cell_type": "code",
   "execution_count": null,
   "id": "57728405",
   "metadata": {},
   "outputs": [],
   "source": []
  }
 ],
 "metadata": {
  "kernelspec": {
   "display_name": "Python 3 (ipykernel)",
   "language": "python",
   "name": "python3"
  },
  "language_info": {
   "codemirror_mode": {
    "name": "ipython",
    "version": 3
   },
   "file_extension": ".py",
   "mimetype": "text/x-python",
   "name": "python",
   "nbconvert_exporter": "python",
   "pygments_lexer": "ipython3",
   "version": "3.9.13"
  }
 },
 "nbformat": 4,
 "nbformat_minor": 5
}
